{
 "cells": [
  {
   "cell_type": "code",
   "execution_count": 1,
   "id": "0285240d-0df4-48c3-a214-77dfbb4a103f",
   "metadata": {},
   "outputs": [
    {
     "data": {
      "application/javascript": "IPython.notebook.set_autosave_interval(10000)"
     },
     "metadata": {},
     "output_type": "display_data"
    },
    {
     "name": "stdout",
     "output_type": "stream",
     "text": [
      "Autosaving every 10 seconds\n"
     ]
    }
   ],
   "source": [
    "%autosave 10"
   ]
  },
  {
   "cell_type": "code",
   "execution_count": 2,
   "id": "8bac324d-79fe-42b2-9b9f-4fd80e424b33",
   "metadata": {},
   "outputs": [],
   "source": [
    "import pandas as pd\n",
    "import numpy as np\n",
    "import matplotlib.pyplot as plt\n",
    "import seaborn as sns\n",
    "\n",
    "%matplotlib inline"
   ]
  },
  {
   "cell_type": "code",
   "execution_count": 4,
   "id": "7890c883-3f7e-4565-ab51-04a22fc62636",
   "metadata": {},
   "outputs": [],
   "source": [
    "df = pd.read_csv(\"../data/laptops.csv\")"
   ]
  },
  {
   "cell_type": "code",
   "execution_count": 5,
   "id": "50dc3d9a-c1aa-4154-abd0-c0d61b389875",
   "metadata": {},
   "outputs": [],
   "source": [
    "df.columns = df.columns.str.lower().str.replace(' ', '_')"
   ]
  },
  {
   "cell_type": "code",
   "execution_count": 6,
   "id": "1ee2d1b1-25b5-4e95-9535-1f56ea0711ea",
   "metadata": {},
   "outputs": [],
   "source": [
    "cols_to_use = ['ram', 'storage', 'screen', 'final_price']"
   ]
  },
  {
   "cell_type": "code",
   "execution_count": 7,
   "id": "7d240a42-eda5-4395-96e6-6702cfd120bf",
   "metadata": {},
   "outputs": [],
   "source": [
    "df = df[cols_to_use].copy()"
   ]
  },
  {
   "cell_type": "markdown",
   "id": "22b651a3-da57-4470-990f-6510f48a7844",
   "metadata": {},
   "source": [
    "# Check Final Price Dist"
   ]
  },
  {
   "cell_type": "code",
   "execution_count": 8,
   "id": "4ebfd333-a548-4906-bd15-d7cb4a180629",
   "metadata": {},
   "outputs": [
    {
     "data": {
      "image/png": "[encoded data removed]",
      "text/plain": [
       "<Figure size 640x480 with 1 Axes>"
      ]
     },
     "metadata": {},
     "output_type": "display_data"
    }
   ],
   "source": [
    "sns.kdeplot(df['final_price'], fill=True)\n",
    "plt.show()"
   ]
  },
  {
   "cell_type": "markdown",
   "id": "dd9e1c26-b48a-49b4-b796-940d7310d4d3",
   "metadata": {},
   "source": [
    "# Q1"
   ]
  },
  {
   "cell_type": "code",
   "execution_count": 9,
   "id": "57fdd227-574e-45bd-926e-e6684eab07ff",
   "metadata": {},
   "outputs": [
    {
     "data": {
      "text/plain": [
       "ram            0\n",
       "storage        0\n",
       "screen         4\n",
       "final_price    0\n",
       "dtype: int64"
      ]
     },
     "execution_count": 9,
     "metadata": {},
     "output_type": "execute_result"
    }
   ],
   "source": [
    "df[cols_to_use].isnull().sum()"
   ]
  },
  {
   "cell_type": "markdown",
   "id": "6956acb3-8f7c-406c-8fed-a656fad94c60",
   "metadata": {},
   "source": [
    "# Q2"
   ]
  },
  {
   "cell_type": "code",
   "execution_count": 10,
   "id": "700da881-ce8d-4f48-9841-72ab6bdd4ad5",
   "metadata": {},
   "outputs": [
    {
     "data": {
      "text/plain": [
       "count    2160.000000\n",
       "mean       15.413889\n",
       "std         9.867815\n",
       "min         4.000000\n",
       "25%         8.000000\n",
       "50%        16.000000\n",
       "75%        16.000000\n",
       "max       128.000000\n",
       "Name: ram, dtype: float64"
      ]
     },
     "execution_count": 10,
     "metadata": {},
     "output_type": "execute_result"
    }
   ],
   "source": [
    "df['ram'].describe()"
   ]
  },
  {
   "cell_type": "markdown",
   "id": "cbe49435-d241-4aef-9e09-b425c64c5fef",
   "metadata": {},
   "source": [
    "# Q3"
   ]
  },
  {
   "cell_type": "code",
   "execution_count": 11,
   "id": "42e9cbc0-a789-42dc-96bc-be084c1f2cb5",
   "metadata": {},
   "outputs": [
    {
     "name": "stdout",
     "output_type": "stream",
     "text": [
      "Train size: 1296\n",
      "Validation size: 432\n",
      "Test size: 432\n",
      "Check 2160, 2160\n"
     ]
    }
   ],
   "source": [
    "n = len(df)\n",
    "\n",
    "n_val = int(n * 0.2)\n",
    "n_test = int(n * 0.2)\n",
    "n_train = n - n_val - n_test\n",
    "print(f\"Train size: {n_train}\")\n",
    "print(f\"Validation size: {n_val}\")\n",
    "print(f\"Test size: {n_test}\")\n",
    "print(f\"Check {n}, {n_train+n_val+n_test}\")"
   ]
  },
  {
   "cell_type": "code",
   "execution_count": 12,
   "id": "8b690845-2d57-4ca8-98d4-bd4e54f66af9",
   "metadata": {},
   "outputs": [],
   "source": [
    "def split_data_by_seed(seed, n):\n",
    "    idx = np.arange(n)\n",
    "    np.random.seed(seed)\n",
    "    np.random.shuffle(idx)\n",
    "    # Define Datasets\n",
    "    df_train = df.iloc[idx[:n_train]]\n",
    "    df_val = df.iloc[idx[n_train:n_train+n_val]]\n",
    "    df_test = df.iloc[idx[n_train+n_val:]]\n",
    "    return df_train, df_val, df_test"
   ]
  },
  {
   "cell_type": "code",
   "execution_count": 13,
   "id": "105dd3dd-9d15-470e-bd9c-087ea0ba608a",
   "metadata": {},
   "outputs": [],
   "source": [
    "df_train, df_valid, df_test = split_data_by_seed(seed=42, n=n)"
   ]
  },
  {
   "cell_type": "markdown",
   "id": "264fffd2-a779-426b-a1c1-0fe68ce4e149",
   "metadata": {},
   "source": [
    "# Fill missing values 0"
   ]
  },
  {
   "cell_type": "code",
   "execution_count": 14,
   "id": "9207c485-d88a-43df-aba6-b033c8d7f7cb",
   "metadata": {},
   "outputs": [],
   "source": [
    "feats = ['ram', 'storage', 'screen']\n",
    "target = ['final_price']"
   ]
  },
  {
   "cell_type": "code",
   "execution_count": 15,
   "id": "56d3b7b5-d25a-43e9-a608-8109ec3cc66a",
   "metadata": {},
   "outputs": [],
   "source": [
    "def prepare_df(df, col, fill=0):\n",
    "    data = df.copy()\n",
    "    data[col] = data[col].fillna(fill)\n",
    "    return data"
   ]
  },
  {
   "cell_type": "code",
   "execution_count": 16,
   "id": "1ebf4e10-c20a-42b7-ae7d-e59a57d28ee6",
   "metadata": {},
   "outputs": [],
   "source": [
    "def process_data(df, feats, target, fill=0):\n",
    "    df = prepare_df(df, 'screen', fill=fill)\n",
    "    X = df[feats].values\n",
    "    y = df[target].values\n",
    "    return X, y"
   ]
  },
  {
   "cell_type": "code",
   "execution_count": 17,
   "id": "382c28a3-dfc0-4913-897b-1dae609d6f4f",
   "metadata": {},
   "outputs": [],
   "source": [
    "# Train Model\n",
    "def train_linear_regression(X, y):\n",
    "    ones = np.ones(X.shape[0])\n",
    "    X = np.column_stack([ones, X])\n",
    "\n",
    "    XTX = X.T.dot(X)\n",
    "    XTX_inv = np.linalg.inv(XTX)\n",
    "    w_full = XTX_inv.dot(X.T).dot(y)\n",
    "    \n",
    "    return w_full[0], w_full[1:]"
   ]
  },
  {
   "cell_type": "code",
   "execution_count": 18,
   "id": "831fa4d4-0e0e-4546-a2c6-f715802b6ea0",
   "metadata": {},
   "outputs": [],
   "source": [
    "X_train, y_train = process_data(df_train, feats, target, fill=0)\n",
    "X_valid, y_valid = process_data(df_valid, feats, target, fill=0)"
   ]
  },
  {
   "cell_type": "code",
   "execution_count": 19,
   "id": "3bba06ad-2bb7-46f1-a49e-09e8dc93bab1",
   "metadata": {},
   "outputs": [],
   "source": [
    "w0, w = train_linear_regression(X_train, y_train)"
   ]
  },
  {
   "cell_type": "code",
   "execution_count": 20,
   "id": "5a87616d-7d98-4435-8a23-fef057f52430",
   "metadata": {},
   "outputs": [],
   "source": [
    "def predict(X, w, w0):\n",
    "    return w0 + X.dot(w)"
   ]
  },
  {
   "cell_type": "code",
   "execution_count": 21,
   "id": "c75dfbb5-f896-48c6-87d2-85d68b06d2f5",
   "metadata": {},
   "outputs": [],
   "source": [
    "# Evaluate method 1\n",
    "y_pred_method_1 = predict(X_valid, w, w0)"
   ]
  },
  {
   "cell_type": "code",
   "execution_count": 22,
   "id": "2e63a6a8-f50f-4045-8309-8dc14bb75e41",
   "metadata": {},
   "outputs": [],
   "source": [
    "def rmse(y, y_pred):\n",
    "    se = (y - y_pred) ** 2\n",
    "    mse = se.mean()\n",
    "    return np.sqrt(mse)"
   ]
  },
  {
   "cell_type": "code",
   "execution_count": 23,
   "id": "42a0082b-b3f0-4c6b-bcc7-d42ad3820ce4",
   "metadata": {},
   "outputs": [
    {
     "data": {
      "text/plain": [
       "597.36"
      ]
     },
     "execution_count": 23,
     "metadata": {},
     "output_type": "execute_result"
    }
   ],
   "source": [
    "np.round(rmse(y_valid, y_pred_method_1), 2)"
   ]
  },
  {
   "cell_type": "code",
   "execution_count": 24,
   "id": "2f124ef8-761e-4395-9af6-3f9edd0dfc72",
   "metadata": {},
   "outputs": [
    {
     "data": {
      "image/png": "[encoded data removed]",
      "text/plain": [
       "<Figure size 640x480 with 1 Axes>"
      ]
     },
     "metadata": {},
     "output_type": "display_data"
    }
   ],
   "source": [
    "sns.kdeplot(y_pred_method_1, color='blue', label='Prediction Validation')\n",
    "sns.kdeplot(y_valid, color='green', label='Actual Validation')\n",
    "\n",
    "# Adding labels and title\n",
    "plt.title('Distributions')\n",
    "plt.xlabel('Value')\n",
    "plt.ylabel('Density')\n",
    "plt.legend()\n",
    "\n",
    "# Show plot\n",
    "plt.show()"
   ]
  },
  {
   "cell_type": "markdown",
   "id": "feb354d4-b35b-444f-8645-6545376e4de6",
   "metadata": {},
   "source": [
    "# Fill missing values mean"
   ]
  },
  {
   "cell_type": "code",
   "execution_count": 25,
   "id": "fa976366-359e-420a-bd9b-c9fda428e2ef",
   "metadata": {},
   "outputs": [],
   "source": [
    "mean_screen = df_train['screen'].mean()"
   ]
  },
  {
   "cell_type": "code",
   "execution_count": 26,
   "id": "2ae41356-dfea-41fb-b483-d97162014aba",
   "metadata": {},
   "outputs": [],
   "source": [
    "X_train, y_train = process_data(df_train, feats, target, fill=mean_screen)\n",
    "X_valid, y_valid = process_data(df_valid, feats, target, fill=mean_screen)"
   ]
  },
  {
   "cell_type": "code",
   "execution_count": 27,
   "id": "55f8ee53-762d-4dcc-992a-7549561b54ef",
   "metadata": {},
   "outputs": [],
   "source": [
    "w0, w = train_linear_regression(X_train, y_train)"
   ]
  },
  {
   "cell_type": "code",
   "execution_count": 28,
   "id": "ed7911c8-0a15-4ec9-be16-024f542411cd",
   "metadata": {},
   "outputs": [],
   "source": [
    "# Evaluate method 2\n",
    "y_pred_method_2 = predict(X_valid, w, w0)"
   ]
  },
  {
   "cell_type": "code",
   "execution_count": 29,
   "id": "634c6b86-6170-4847-ae50-e49369f6dac9",
   "metadata": {},
   "outputs": [
    {
     "data": {
      "text/plain": [
       "600.27"
      ]
     },
     "execution_count": 29,
     "metadata": {},
     "output_type": "execute_result"
    }
   ],
   "source": [
    "np.round(rmse(y_valid, y_pred_method_2), 2)"
   ]
  },
  {
   "cell_type": "markdown",
   "id": "7d583d1a-6e7d-4842-b473-34ea7af368fb",
   "metadata": {},
   "source": [
    "# Q4"
   ]
  },
  {
   "cell_type": "code",
   "execution_count": 30,
   "id": "c6747708-e130-4a69-9167-ff3ee045340e",
   "metadata": {},
   "outputs": [],
   "source": [
    "X_train, y_train = process_data(df_train, feats, target, fill=0)\n",
    "X_valid, y_valid = process_data(df_valid, feats, target, fill=0)"
   ]
  },
  {
   "cell_type": "code",
   "execution_count": 31,
   "id": "212a316c-58a0-4066-8b89-f9661a017b81",
   "metadata": {},
   "outputs": [],
   "source": [
    "def train_linear_regression_reg(X, y, r=0.001):\n",
    "    ones = np.ones(X.shape[0])\n",
    "    X = np.column_stack([ones, X])\n",
    "\n",
    "    XTX = X.T.dot(X)\n",
    "    XTX = XTX + r * np.eye(XTX.shape[0])\n",
    "\n",
    "    XTX_inv = np.linalg.inv(XTX)\n",
    "    w_full = XTX_inv.dot(X.T).dot(y)\n",
    "    \n",
    "    return w_full[0], w_full[1:]"
   ]
  },
  {
   "cell_type": "code",
   "execution_count": 32,
   "id": "dd4f0de2-ad10-4f1c-8832-11740875010e",
   "metadata": {},
   "outputs": [],
   "source": [
    "r_options = [0, 0.01, 0.1, 1, 5, 10, 100]"
   ]
  },
  {
   "cell_type": "code",
   "execution_count": 33,
   "id": "71d61e4c-5ae8-427e-b283-749831676907",
   "metadata": {},
   "outputs": [
    {
     "name": "stdout",
     "output_type": "stream",
     "text": [
      "RMSE for regularization param 0: 597.36 \n",
      "\n",
      "RMSE for regularization param 0.01: 597.36 \n",
      "\n",
      "RMSE for regularization param 0.1: 597.35 \n",
      "\n",
      "RMSE for regularization param 1: 597.21 \n",
      "\n",
      "RMSE for regularization param 5: 597.01 \n",
      "\n",
      "RMSE for regularization param 10: 597.06 \n",
      "\n",
      "RMSE for regularization param 100: 597.9 \n",
      "\n"
     ]
    }
   ],
   "source": [
    "check_lst = []\n",
    "for r in r_options:\n",
    "    w0, w = train_linear_regression_reg(X_train, y_train, r)\n",
    "    y_pred = predict(X_valid, w, w0)\n",
    "    score = np.round(rmse(y_valid, y_pred), 2)\n",
    "    print(f\"RMSE for regularization param {r}: {score} \\n\")\n",
    "    check_lst.append((r, score))"
   ]
  },
  {
   "cell_type": "code",
   "execution_count": 34,
   "id": "9565f9bf-7501-49b9-8809-433d68f2bbc5",
   "metadata": {},
   "outputs": [
    {
     "data": {
      "text/plain": [
       "[(5, 597.01),\n",
       " (10, 597.06),\n",
       " (1, 597.21),\n",
       " (0.1, 597.35),\n",
       " (0, 597.36),\n",
       " (0.01, 597.36),\n",
       " (100, 597.9)]"
      ]
     },
     "execution_count": 34,
     "metadata": {},
     "output_type": "execute_result"
    }
   ],
   "source": [
    "sorted(check_lst, key=lambda x: x[1])"
   ]
  },
  {
   "cell_type": "markdown",
   "id": "1e1d65cc-5a3d-4c02-b2df-27e7d215fbb6",
   "metadata": {},
   "source": [
    "# Q5"
   ]
  },
  {
   "cell_type": "code",
   "execution_count": 35,
   "id": "a47163da-c6bd-4bc8-8b68-ae1cdddfcc29",
   "metadata": {},
   "outputs": [],
   "source": [
    "seeds = [0, 1, 2, 3, 4, 5, 6, 7, 8, 9]"
   ]
  },
  {
   "cell_type": "code",
   "execution_count": 36,
   "id": "2b2ac7a5-2a6f-48fb-88e3-e68c72665b36",
   "metadata": {},
   "outputs": [],
   "source": [
    "scores_seeds = []\n",
    "n = len(df)\n",
    "for seed in seeds:\n",
    "    df_train, df_val, _  = split_data_by_seed(seed, n)\n",
    "    X_train, y_train = process_data(df_train, feats, target)\n",
    "    X_valid, y_valid = process_data(df_val, feats, target)\n",
    "    w0, w = train_linear_regression(X_train, y_train)\n",
    "    y_pred = predict(X_valid, w, w0)\n",
    "    score = rmse(y_valid, y_pred)\n",
    "    scores_seeds.append(score)"
   ]
  },
  {
   "cell_type": "code",
   "execution_count": 37,
   "id": "3c691688-51d2-4523-a50f-f48f3c1d3d72",
   "metadata": {},
   "outputs": [
    {
     "data": {
      "text/plain": [
       "29.176"
      ]
     },
     "execution_count": 37,
     "metadata": {},
     "output_type": "execute_result"
    }
   ],
   "source": [
    "np.round(np.std(scores_seeds), 3)"
   ]
  },
  {
   "cell_type": "markdown",
   "id": "b5e718ab-26cf-409c-bbb6-56dc5dd6b3bf",
   "metadata": {},
   "source": [
    "# Q6"
   ]
  },
  {
   "cell_type": "code",
   "execution_count": 38,
   "id": "30c45470-c87a-482e-9c47-4612e572f2f9",
   "metadata": {},
   "outputs": [],
   "source": [
    "df_train, df_val, df_test  = split_data_by_seed(9, n)"
   ]
  },
  {
   "cell_type": "code",
   "execution_count": 39,
   "id": "625ae1f4-3eea-4397-b7e0-248102c86874",
   "metadata": {},
   "outputs": [],
   "source": [
    "df_train_new = pd.concat([df_train, df_val])"
   ]
  },
  {
   "cell_type": "code",
   "execution_count": 40,
   "id": "ce9b0ab3-babe-4357-9aea-81bec68b8c11",
   "metadata": {},
   "outputs": [],
   "source": [
    "X_train, y_train = process_data(df_train_new, feats, target)\n",
    "X_test, y_test = process_data(df_test, feats, target)"
   ]
  },
  {
   "cell_type": "code",
   "execution_count": 41,
   "id": "44039ad5-04d4-4b2e-bddf-06f25b75899f",
   "metadata": {},
   "outputs": [],
   "source": [
    "w0, w = train_linear_regression_reg(X_train, y_train, r=0.001)"
   ]
  },
  {
   "cell_type": "code",
   "execution_count": 42,
   "id": "b00fd70b-1229-46d4-a071-f058f811e52f",
   "metadata": {},
   "outputs": [],
   "source": [
    "y_pred = predict(X_test, w, w0)"
   ]
  },
  {
   "cell_type": "code",
   "execution_count": 43,
   "id": "5c81b751-6403-40fd-86b1-d7b3fb1aa254",
   "metadata": {},
   "outputs": [
    {
     "data": {
      "text/plain": [
       "608.61"
      ]
     },
     "execution_count": 43,
     "metadata": {},
     "output_type": "execute_result"
    }
   ],
   "source": [
    "rmse(y_test, y_pred).round(2)"
   ]
  },
  {
   "cell_type": "code",
   "execution_count": null,
   "id": "de5f3331-411b-445b-8f5a-b22426081612",
   "metadata": {},
   "outputs": [],
   "source": []
  }
 ],
 "metadata": {
  "kernelspec": {
   "display_name": "Python 3 (ipykernel)",
   "language": "python",
   "name": "python3"
  },
  "language_info": {
   "codemirror_mode": {
    "name": "ipython",
    "version": 3
   },
   "file_extension": ".py",
   "mimetype": "text/x-python",
   "name": "python",
   "nbconvert_exporter": "python",
   "pygments_lexer": "ipython3",
   "version": "3.11.9"
  }
 },
 "nbformat": 4,
 "nbformat_minor": 5
}
