{
 "cells": [
  {
   "cell_type": "code",
   "execution_count": 1,
   "id": "506d4b23-079f-4ed0-a1fc-32d3ea4a7b75",
   "metadata": {},
   "outputs": [],
   "source": [
    "import pandas as pd\n",
    "import numpy as np"
   ]
  },
  {
   "cell_type": "markdown",
   "id": "93baef75-bbe4-4cf5-b921-9163a2ba07f4",
   "metadata": {},
   "source": [
    "## Q1"
   ]
  },
  {
   "cell_type": "code",
   "execution_count": 2,
   "id": "dae5715e-767f-438f-b614-e396c14d1e1a",
   "metadata": {},
   "outputs": [
    {
     "data": {
      "text/plain": [
       "'2.2.2'"
      ]
     },
     "execution_count": 2,
     "metadata": {},
     "output_type": "execute_result"
    }
   ],
   "source": [
    "pd.__version__"
   ]
  },
  {
   "cell_type": "code",
   "execution_count": 6,
   "id": "5479f993-e770-466d-9f7c-38ae1f310105",
   "metadata": {},
   "outputs": [],
   "source": [
    "df = pd.read_csv(\"../data/laptops.csv\")"
   ]
  },
  {
   "cell_type": "markdown",
   "id": "16a55c71-fe22-4b5e-903b-f78ee1d543a7",
   "metadata": {},
   "source": [
    "# Q2"
   ]
  },
  {
   "cell_type": "code",
   "execution_count": 7,
   "id": "2a6197e4-1de8-4821-9270-44b579a14f73",
   "metadata": {},
   "outputs": [
    {
     "data": {
      "text/plain": [
       "(2160, 12)"
      ]
     },
     "execution_count": 7,
     "metadata": {},
     "output_type": "execute_result"
    }
   ],
   "source": [
    "df.shape\n"
   ]
  },
  {
   "cell_type": "markdown",
   "id": "b1565628-0d6e-49cd-b0f4-0dfee6ac3908",
   "metadata": {},
   "source": [
    "# Q3"
   ]
  },
  {
   "cell_type": "code",
   "execution_count": 8,
   "id": "72c368b2-46fc-467b-86bb-d1bbc1a55115",
   "metadata": {},
   "outputs": [
    {
     "data": {
      "text/plain": [
       "27"
      ]
     },
     "execution_count": 8,
     "metadata": {},
     "output_type": "execute_result"
    }
   ],
   "source": [
    "df['Brand'].nunique()"
   ]
  },
  {
   "cell_type": "markdown",
   "id": "cd2c873c-cd6e-414a-a4f4-5171b355a3f1",
   "metadata": {},
   "source": [
    "# Q4"
   ]
  },
  {
   "cell_type": "code",
   "execution_count": 9,
   "id": "9e18bb35-d9b3-4932-b5f2-899c27bc9bbe",
   "metadata": {},
   "outputs": [
    {
     "data": {
      "text/plain": [
       "Laptop             0\n",
       "Status             0\n",
       "Brand              0\n",
       "Model              0\n",
       "CPU                0\n",
       "RAM                0\n",
       "Storage            0\n",
       "Storage type      42\n",
       "GPU             1371\n",
       "Screen             4\n",
       "Touch              0\n",
       "Final Price        0\n",
       "dtype: int64"
      ]
     },
     "execution_count": 9,
     "metadata": {},
     "output_type": "execute_result"
    }
   ],
   "source": [
    "df.isnull().sum()"
   ]
  },
  {
   "cell_type": "markdown",
   "id": "fa64158f-a879-49e5-aee3-f677359649d9",
   "metadata": {},
   "source": [
    "# Q5"
   ]
  },
  {
   "cell_type": "code",
   "execution_count": 10,
   "id": "ec10d9d3-327c-41ba-ba2e-f9d02a442a34",
   "metadata": {},
   "outputs": [
    {
     "data": {
      "text/plain": [
       "3936.0"
      ]
     },
     "execution_count": 10,
     "metadata": {},
     "output_type": "execute_result"
    }
   ],
   "source": [
    "df.query(\"Brand=='Dell'\")['Final Price'].max()"
   ]
  },
  {
   "cell_type": "markdown",
   "id": "4fbc7795-d971-4f6b-b340-dab8440540af",
   "metadata": {},
   "source": [
    "# Q6"
   ]
  },
  {
   "cell_type": "code",
   "execution_count": 11,
   "id": "7dd6b16a-2794-49ca-97d1-dd5ceb3797f9",
   "metadata": {},
   "outputs": [
    {
     "data": {
      "text/plain": [
       "(15.6, 15.6)"
      ]
     },
     "execution_count": 11,
     "metadata": {},
     "output_type": "execute_result"
    }
   ],
   "source": [
    "original_median = df['Screen'].median()\n",
    "most_frequent_val = df['Screen'].mode()[0]\n",
    "original_median, most_frequent_val"
   ]
  },
  {
   "cell_type": "code",
   "execution_count": 12,
   "id": "0ab76635-6cc7-4069-b875-59b60d5d2236",
   "metadata": {},
   "outputs": [],
   "source": [
    "df['Screen'] = df['Screen'].fillna(most_frequent_val)"
   ]
  },
  {
   "cell_type": "code",
   "execution_count": 13,
   "id": "19644b1c-d286-43fd-8f49-0d8e87993cd3",
   "metadata": {},
   "outputs": [
    {
     "data": {
      "text/plain": [
       "15.6"
      ]
     },
     "execution_count": 13,
     "metadata": {},
     "output_type": "execute_result"
    }
   ],
   "source": [
    "df['Screen'].median()"
   ]
  },
  {
   "cell_type": "markdown",
   "id": "0f69fd03-e509-4ec3-ac1e-e6f9d8f92a6b",
   "metadata": {},
   "source": [
    "# Q7"
   ]
  },
  {
   "cell_type": "code",
   "execution_count": 14,
   "id": "98851ae7-7080-4121-a2c3-1dafce3e745b",
   "metadata": {},
   "outputs": [],
   "source": [
    "X = df.query(\"Brand=='Innjoo'\")[['RAM', 'Storage', 'Screen']].values"
   ]
  },
  {
   "cell_type": "code",
   "execution_count": 15,
   "id": "c123ed44-b0aa-4ffd-82a2-bc9516c0fa74",
   "metadata": {},
   "outputs": [],
   "source": [
    "inv_xtx = np.linalg.inv(X.T.dot(X))"
   ]
  },
  {
   "cell_type": "code",
   "execution_count": 16,
   "id": "5297626e-8257-4ba5-8e44-a19991bef021",
   "metadata": {},
   "outputs": [],
   "source": [
    "y = np.array([1100, 1300, 800, 900, 1000, 1100]).reshape(1, 6)"
   ]
  },
  {
   "cell_type": "code",
   "execution_count": 17,
   "id": "51bec351-2744-4bbc-ad06-b00c229fd7a8",
   "metadata": {},
   "outputs": [
    {
     "data": {
      "text/plain": [
       "array([[45.58076606,  0.42783519, 45.29127938]])"
      ]
     },
     "execution_count": 17,
     "metadata": {},
     "output_type": "execute_result"
    }
   ],
   "source": [
    "w = y.dot(X.dot(inv_xtx))\n",
    "w"
   ]
  },
  {
   "cell_type": "code",
   "execution_count": 18,
   "id": "c9c06b71-b8c4-4c2c-9084-dfafc29d69c1",
   "metadata": {},
   "outputs": [
    {
     "data": {
      "text/plain": [
       "91.29988062995588"
      ]
     },
     "execution_count": 18,
     "metadata": {},
     "output_type": "execute_result"
    }
   ],
   "source": [
    "w.sum()"
   ]
  },
  {
   "cell_type": "code",
   "execution_count": null,
   "id": "e15d9e83-f18f-4d9f-b1a7-7060238ed76e",
   "metadata": {},
   "outputs": [],
   "source": []
  }
 ],
 "metadata": {
  "kernelspec": {
   "display_name": "Python 3 (ipykernel)",
   "language": "python",
   "name": "python3"
  },
  "language_info": {
   "codemirror_mode": {
    "name": "ipython",
    "version": 3
   },
   "file_extension": ".py",
   "mimetype": "text/x-python",
   "name": "python",
   "nbconvert_exporter": "python",
   "pygments_lexer": "ipython3",
   "version": "3.11.9"
  }
 },
 "nbformat": 4,
 "nbformat_minor": 5
}
